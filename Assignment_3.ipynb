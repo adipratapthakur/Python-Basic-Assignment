{
 "cells": [
  {
   "cell_type": "code",
   "execution_count": null,
   "id": "54a30902",
   "metadata": {},
   "outputs": [],
   "source": [
    "1. Why are functions advantageous to have in your programs?\n",
    "\n",
    "Ans1:-\n",
    "\n",
    "There are many advantages of using functions in our programs:-\n",
    "\n",
    "(i) It reduces duplication of code.\n",
    "(ii) It helps us in breaking down complex problems into simple and smaller problems\n",
    "(iii) we can reuse our code\n",
    "(iv) Information hiding"
   ]
  },
  {
   "cell_type": "code",
   "execution_count": null,
   "id": "2dccca47",
   "metadata": {},
   "outputs": [],
   "source": [
    "2. When does the code in a function run: when it's specified or when it's called?\n",
    "\n",
    "Ans2:-\n",
    "\n",
    "The code in a function will be executed when we call our function."
   ]
  },
  {
   "cell_type": "code",
   "execution_count": null,
   "id": "c4975122",
   "metadata": {},
   "outputs": [],
   "source": [
    "3. What statement creates a function?\n",
    "\n",
    "Ans3:-\n",
    "\n",
    "we can create function with \"def\" statement which is the abbreviation of definition.\n",
    "\n",
    "Example:-\n",
    "\n",
    "def greet():\n",
    "    print(\"Welcome Here\")\n",
    "\n",
    "greet()   #it will print \"Welcome Here\" in the console."
   ]
  },
  {
   "cell_type": "code",
   "execution_count": null,
   "id": "5d1ac796",
   "metadata": {},
   "outputs": [],
   "source": [
    "4. What is the difference between a function and a function call?\n",
    "\n",
    "Ans4:-\n",
    "\n",
    "A function is a block of a code which will perform some specific task it is created for and can return data.\n",
    "we can create function definition with \"def\" keyword and that will be the code which will executed when we call our function.\n",
    "\n",
    "Function call is the way to invoking or calling the function which is already defined. It will execute the code written \\\n",
    "inside a function."
   ]
  },
  {
   "cell_type": "code",
   "execution_count": null,
   "id": "2c6e5f89",
   "metadata": {},
   "outputs": [],
   "source": [
    "5. How many global scopes are there in a Python program? How many local scopes?\n",
    "\n",
    "Ans5:-\n",
    "\n",
    "There are only one global scope in python program. A variable defined in global scope can be accessed through out the\\\n",
    "python program.\n",
    "\n",
    "There can be n number of local scopes in a python program."
   ]
  },
  {
   "cell_type": "code",
   "execution_count": null,
   "id": "6c1a378a",
   "metadata": {},
   "outputs": [],
   "source": [
    "6. What happens to variables in a local scope when the function call returns?\n",
    "\n",
    "Ans6:- \n",
    "\n",
    "When the execution of the function is terminated or returned then all the local variables defined inside the function\\\n",
    "are destroyed. and we can not access them anymore."
   ]
  },
  {
   "cell_type": "code",
   "execution_count": null,
   "id": "f4e425a9",
   "metadata": {},
   "outputs": [],
   "source": [
    "7. What is the concept of a return value? Is it possible to have a return value in an expression?\n",
    "\n",
    "Ans7:-\n",
    "\n",
    "We can return any value(list,tuple,dictionary,int,float,bool,complex) from the function back to our main program.\\\n",
    "we can return an expression from our function as well.\n",
    "\n",
    "Example:-\n",
    "\n",
    "def add(a,b):\n",
    "    return a+b\n",
    "\n",
    "add(10,20)"
   ]
  },
  {
   "cell_type": "code",
   "execution_count": null,
   "id": "d7621279",
   "metadata": {},
   "outputs": [],
   "source": [
    "8. If a function does not have a return statement, what is the return value of a call to that function?\n",
    "\n",
    "Ans:-\n",
    "\n",
    "If a function does not have a return statement then it will return the nonetype object back from the function by default."
   ]
  },
  {
   "cell_type": "code",
   "execution_count": null,
   "id": "f346586b",
   "metadata": {},
   "outputs": [],
   "source": [
    "9. How do you make a function variable refer to the global variable?\n",
    "\n",
    "Ans9:-\n",
    "\n",
    "If we want to refer a global variable in a function, we can use global keyword with the globally declared variable \\\n",
    "inside a function.\n",
    "\n",
    "Example:-\n",
    "\n",
    "a = 10\n",
    "def add(b):\n",
    "    global a\n",
    "    return a+b\n",
    "\n",
    "add(50)   #it will return 60 as output"
   ]
  },
  {
   "cell_type": "code",
   "execution_count": null,
   "id": "446e5f1a",
   "metadata": {},
   "outputs": [],
   "source": [
    "10. What is the data type of None?\n",
    "\n",
    "Ans10:-\n",
    "\n",
    "None is the data type of its own NoneType object. It is used to defined null value or no value at all.\n",
    "\n",
    "Note:- It is not same as 0 or False or empty string."
   ]
  },
  {
   "cell_type": "code",
   "execution_count": null,
   "id": "93eea63b",
   "metadata": {},
   "outputs": [],
   "source": [
    "11. What does the sentence import areallyourpetsnamederic do?\n",
    "\n",
    "Ans11:-\n",
    "\n",
    "This statement will try to import module named areallyourpetsnamederic. If it exists it will be imported otherwise\\\n",
    "it will through an error no module named 'areallyourpetsnamederic'"
   ]
  },
  {
   "cell_type": "code",
   "execution_count": null,
   "id": "7d379066",
   "metadata": {},
   "outputs": [],
   "source": [
    "12. If you had a bacon() feature in a spam module, what would you call it after importing spam?\n",
    "\n",
    "Ans12:-\n",
    "\n",
    "import spam\n",
    "spam.bacon()"
   ]
  },
  {
   "cell_type": "code",
   "execution_count": null,
   "id": "134c13e3",
   "metadata": {},
   "outputs": [],
   "source": [
    "13. What can you do to save a programme from crashing if it encounters an error?\n",
    "\n",
    "Ans13:-\n",
    "\n",
    "we can use exception handling through try and except block to save our program from crashing if it encounters an error."
   ]
  },
  {
   "cell_type": "code",
   "execution_count": null,
   "id": "05a92d59",
   "metadata": {},
   "outputs": [],
   "source": [
    "14. What is the purpose of the try clause? What is the purpose of the except clause?\n",
    "\n",
    "Ans14:-\n",
    "\n",
    "try block lets you test a block of code for error. If program encounters an error then control is transferred \\\n",
    "to except block.\n",
    "\n",
    "except block lets you handle the error."
   ]
  }
 ],
 "metadata": {
  "kernelspec": {
   "display_name": "Python 3",
   "language": "python",
   "name": "python3"
  },
  "language_info": {
   "codemirror_mode": {
    "name": "ipython",
    "version": 3
   },
   "file_extension": ".py",
   "mimetype": "text/x-python",
   "name": "python",
   "nbconvert_exporter": "python",
   "pygments_lexer": "ipython3",
   "version": "3.8.8"
  }
 },
 "nbformat": 4,
 "nbformat_minor": 5
}
