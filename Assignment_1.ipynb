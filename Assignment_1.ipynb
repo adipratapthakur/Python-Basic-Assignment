{
 "cells": [
  {
   "cell_type": "code",
   "execution_count": null,
   "id": "0bd90048",
   "metadata": {},
   "outputs": [],
   "source": [
    "1. In the below elements which of them are values or an expression? eg:- values can be integer or string and expressions will be mathematical operators.\n",
    "\n",
    "* \n",
    "'hello'\n",
    "-87.8\n",
    "- \n",
    "/ \n",
    "+\t\n",
    "6\n",
    "\n",
    "\n",
    "Ans1:-\n",
    "\n",
    "Values are :-  'hello' which is a string and 6 which is an integer.\n",
    "\n",
    "Expressions are :- * , - , / , + . These all are mathematical operators.\n",
    "\n",
    "Note:- -87.8 is not an integer.\n"
   ]
  },
  {
   "cell_type": "code",
   "execution_count": null,
   "id": "83a47d68",
   "metadata": {},
   "outputs": [],
   "source": [
    "2. What is the difference between string and variable?\n",
    "\n",
    "Ans2:- \n",
    "\n",
    "String is just the raw text that you will store in a variable. string can be enclosed by single or double quote in python language.\n",
    "Example- \"hello\", 'I live in Chandigarh' etc\n",
    "\n",
    "whereas a variable is just a name to the primary memory to your computer where you can store the data. Data can be of any type a string, integer, boolean, complex number etc. You can give any name to a variable but that must follows the naming convention of that particular programming language.\n",
    "Example- a = 10, s = 'Akhand Pratap Singh', b = True etc.\n",
    "\n"
   ]
  },
  {
   "cell_type": "code",
   "execution_count": null,
   "id": "c16f7aa0",
   "metadata": {},
   "outputs": [],
   "source": [
    "3. Describe three different data types.\n",
    "\n",
    "Ans3:-\n",
    "\n",
    "Integer:- An integer is a data type which is a whole number with positive or negative value. It can not be in decimal. 0 is also an integer.\n",
    "Example- 10,20,0,-5 etc\n",
    "\n",
    "Float:- Float is data type which is of decimal values.\n",
    "Example:- 3.21, -5.0, 66.20 etc\n",
    "\n",
    "String:- String is a data type which is enclosed in single or double quote in python programming language. It is a raw text information.\n",
    "Example:- 'Hello', \"Good-bye\", '123456' etc"
   ]
  },
  {
   "cell_type": "code",
   "execution_count": null,
   "id": "a8c24a6a",
   "metadata": {},
   "outputs": [],
   "source": [
    "4. What is an expression made up of? What do all expressions do?\n",
    "\n",
    "Ans4:-\n",
    "\n",
    "Expressions are made up of mathematical operators and the numbers. Numbers can be integers or float. Expressions calculate the resultant value of that particular expression.\n",
    "\n",
    "Note:- we can use some mathematical operators with string also, but those operators will work different with string. This concept is known as operator overloading.\n",
    "\n",
    "Example:- 1+2-5 and 100/5*2+4 are the example of expressions."
   ]
  },
  {
   "cell_type": "code",
   "execution_count": null,
   "id": "219aaaa8",
   "metadata": {},
   "outputs": [],
   "source": [
    "5. This assignment statements, like spam = 10. What is the difference between an expression and a statement?\n",
    "\n",
    "Ans5:-\n",
    "\n",
    "The assignment statement or we can say the assignment operator is used to store the value into a variable. whereas an expression are made up of mathematical operators and the numbers which gives us a resultant output.\n",
    "we can use assignment operator to store our expression result to a variable.\n",
    "\n",
    "Example:- name = 'Akhand Pratap' #This is an assignment statement with assignment operator =.\n",
    "          result = 100/5*2+4     #Here 100/5*2+4 this is an expression and we are storing the result of this expression in result variable."
   ]
  },
  {
   "cell_type": "code",
   "execution_count": null,
   "id": "fb7b77c9",
   "metadata": {},
   "outputs": [],
   "source": [
    "6. After running the following code, what does the variable bacon contain?\n",
    "bacon = 22\n",
    "bacon + 1\n",
    "\n",
    "Ans6:-\n",
    "\n",
    "bacon variable will still contain the value 22.\n"
   ]
  },
  {
   "cell_type": "code",
   "execution_count": null,
   "id": "7332e9bb",
   "metadata": {},
   "outputs": [],
   "source": [
    "7. What should the values of the following two terms be?\n",
    "'spam' + 'spamspam'\n",
    "'spam' * 3\n",
    "\n",
    "Ans7:-\n",
    "\n",
    "Both will have the same value which is 'spamspamspam'. Here + operator will concatenate both the string and will make result 'spamspamspam'  and  * operator will repeat the 'spam' string 3 times and will make 'spamspamspam'\n",
    "\n",
    "Hence both result will be equal.\n",
    "\n",
    "'spam' + 'spamspam' == 'spam' * 3\n"
   ]
  },
  {
   "cell_type": "code",
   "execution_count": null,
   "id": "e0c23668",
   "metadata": {},
   "outputs": [],
   "source": [
    "8. Why is eggs a valid variable name while 100 is invalid?\n",
    "\n",
    "Ans8:-\n",
    "\n",
    "eggs is a valid variable name while 100 is not valid because a variable name can not start with number.\n",
    "\n",
    "#Here are the rules related to Python variable naming:\n",
    "\n",
    "A variable name must start with a letter or the underscore character\n",
    "A variable name cannot start with a number\n",
    "A variable name can only contain alpha-numeric characters and underscores (A-z, 0-9, and _ )\n",
    "Variable names are case-sensitive (age, Age and AGE are three different variables)"
   ]
  },
  {
   "cell_type": "code",
   "execution_count": null,
   "id": "6a980c93",
   "metadata": {},
   "outputs": [],
   "source": [
    "9. What three functions can be used to get the integer, floating-point number, or string version of a value?\n",
    "\n",
    "Ans9:-\n",
    "\n",
    "(i) int()\n",
    "(ii) float()\n",
    "(iii) str()"
   ]
  },
  {
   "cell_type": "code",
   "execution_count": null,
   "id": "b89f6ddb",
   "metadata": {},
   "outputs": [],
   "source": [
    "10. Why does this expression cause an error? How can you fix it?\n",
    "'I have eaten ' + 99 + ' burritos.'\n",
    "\n",
    "Ans10:-\n",
    "\n",
    "we can concatenate a string with other string using + operator. while + operator works differently with integers. Here 99 is an integer. That's why it is causing an error.\n",
    "To fix this error, we have to type-cast the 99 which is an integer to string by using str() function.\n",
    "\n",
    "Example:- 'I have eaten ' + str(99) + ' burritos.' \n",
    "\n"
   ]
  },
  {
   "cell_type": "code",
   "execution_count": null,
   "id": "97f97503",
   "metadata": {},
   "outputs": [],
   "source": []
  }
 ],
 "metadata": {
  "kernelspec": {
   "display_name": "Python 3",
   "language": "python",
   "name": "python3"
  },
  "language_info": {
   "codemirror_mode": {
    "name": "ipython",
    "version": 3
   },
   "file_extension": ".py",
   "mimetype": "text/x-python",
   "name": "python",
   "nbconvert_exporter": "python",
   "pygments_lexer": "ipython3",
   "version": "3.8.8"
  }
 },
 "nbformat": 4,
 "nbformat_minor": 5
}
