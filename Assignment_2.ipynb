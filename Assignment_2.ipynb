{
 "cells": [
  {
   "cell_type": "code",
   "execution_count": null,
   "id": "11d39b29",
   "metadata": {},
   "outputs": [],
   "source": [
    "1. What are the two values of the Boolean data type? How do you write them?\n",
    "\n",
    "Ans1:-\n",
    "\n",
    "Two values of Boolean data type are:-\n",
    "(i) True\n",
    "(ii) False\n",
    "\n",
    "Generally, It is used to represent the truth values of the expression.\n",
    "\n",
    "Example:-  1==1 will give True and 1>2 will give False.\n",
    "\n",
    "\n",
    "We use bool() function to evaluate values and variables.\n",
    "\n",
    "Example:- x = 5, y = 10\n",
    "\n",
    "print(bool(x==y)) or simply we can write this also:- x == y  #it will return False\n",
    "\n",
    "s = ''\n",
    "bool(s)  #it will return False\n"
   ]
  },
  {
   "cell_type": "code",
   "execution_count": null,
   "id": "41ca1380",
   "metadata": {},
   "outputs": [],
   "source": [
    "2. What are the three different types of Boolean operators?\n",
    "\n",
    "Ans2:-\n",
    "\n",
    "The three different types of Boolean operators are :-\n",
    "(i) or\n",
    "(ii) and\n",
    "(iii) not"
   ]
  },
  {
   "cell_type": "code",
   "execution_count": null,
   "id": "dd2475a3",
   "metadata": {},
   "outputs": [],
   "source": [
    "3. Make a list of each Boolean operator's truth tables (i.e. every possible combination of Boolean values for the operator and what it evaluate ).\n",
    "\n",
    "Ans3:-\n",
    "\n",
    "Boolean AND\n",
    "\n",
    "X               Y                 X and Y\n",
    "\n",
    "False(0)      False(0)            False(0)\n",
    "False(0)      True(1)             False(0)\n",
    "True(1)       False(0)            False(0)\n",
    "True(1)       True(1)             True(1)\n",
    "\n",
    "\n",
    "Boolean OR\n",
    "\n",
    "X                  Y                  X or Y\n",
    "\n",
    "False(0)          False(0)            False(0)\n",
    "False(0)          True(1)             True(1)\n",
    "True(1)           False(0)            True(1)\n",
    "True(1)           True(1)             True(1)\n",
    "\n",
    "\n",
    "Boolean NOT\n",
    "\n",
    "X             X'\n",
    "\n",
    "True(1)      False(0)\n",
    "False(0)     True(1)"
   ]
  },
  {
   "cell_type": "code",
   "execution_count": null,
   "id": "f3fb37e4",
   "metadata": {},
   "outputs": [],
   "source": [
    "4. What are the values of the following expressions?\n",
    "\n",
    "(5 > 4) and (3 == 5)                 =>  #False\n",
    "not (5 > 4)                          =>  #False\n",
    "(5 > 4) or (3 == 5)                  =>  #True\n",
    "not ((5 > 4) or (3 == 5))            =>  #False\n",
    "(True and True) and (True == False)  => #False\n",
    "(not False) or (not True)            =>  #True\n"
   ]
  },
  {
   "cell_type": "code",
   "execution_count": null,
   "id": "61704d51",
   "metadata": {},
   "outputs": [],
   "source": [
    "5. What are the six comparison operators?\n",
    "\n",
    "Ans5:-\n",
    "\n",
    "The six comaparison operators are:-\n",
    "\n",
    "(i) greater than (>)\n",
    "(ii) less than (<)\n",
    "(iii) greater or equal to (>=)\n",
    "(iv)  less or equal to (<=)\n",
    "(v) equal to (==)\n",
    "(vi) not equal to (!=)"
   ]
  },
  {
   "cell_type": "code",
   "execution_count": null,
   "id": "7dad9438",
   "metadata": {},
   "outputs": [],
   "source": [
    "6. How do you tell the difference between the equal to and assignment operators? \\\n",
    "   Describe a condition and when you would use one.\n",
    "   \n",
    "Ans6:-\n",
    "\n",
    "\n",
    "The equal to operator is used to perform comparision operation. Is something is equal to something ? and it will return \\\n",
    "boolean values True or False.\n",
    "\n",
    "Example:- \n",
    "\n",
    "(i)\n",
    "\n",
    "\"aadi\" == \"adi\"\n",
    "It will return False\n",
    "\n",
    "(ii) 12 == 12\n",
    "It will return True\n",
    "\n",
    "\n",
    "Assignment operator is used when you want to assign some data to a variable. Data can be of any type integer, \\\n",
    "float, string etc.\n",
    "\n",
    "Example:-\n",
    "\n",
    "a = 10\n",
    "name = \"akhand\"\n",
    "b = 1.2\n",
    "\n"
   ]
  },
  {
   "cell_type": "code",
   "execution_count": null,
   "id": "2757c4f3",
   "metadata": {},
   "outputs": [],
   "source": [
    "7. Identify the three blocks in this code:\n",
    "spam = 0\n",
    "if spam == 10:\n",
    "print('eggs')\n",
    "if spam > 5:\n",
    "print('bacon')\n",
    "else:\n",
    "print('ham')\n",
    "print('spam')\n",
    "print('spam')\n",
    "\n",
    "\n",
    "Ans7:-\n",
    "\n",
    "else:\n",
    "    print('ham')\n",
    "    print('spam')\n",
    "    print('spam')\n"
   ]
  },
  {
   "cell_type": "code",
   "execution_count": null,
   "id": "19c5b0b3",
   "metadata": {},
   "outputs": [],
   "source": [
    "8. Write code that prints Hello if 1 is stored in spam, \\\n",
    "   prints Howdy if 2 is stored in spam, and prints Greetings! if anything else is stored in spam.\n"
   ]
  },
  {
   "cell_type": "code",
   "execution_count": 16,
   "id": "b30fe3fa",
   "metadata": {},
   "outputs": [
    {
     "name": "stdout",
     "output_type": "stream",
     "text": [
      "Hello\n",
      "Howdy\n",
      "Greetings!\n",
      "Greetings!\n"
     ]
    }
   ],
   "source": [
    "def myFun(spam):\n",
    "    if spam == 1:\n",
    "        print(\"Hello\")\n",
    "    elif spam == 2:\n",
    "        print(\"Howdy\")\n",
    "    else:\n",
    "        print(\"Greetings!\")\n",
    "    return\n",
    "\n",
    "myFun(1)\n",
    "myFun(2)\n",
    "myFun(3)\n",
    "myFun(0)"
   ]
  },
  {
   "cell_type": "code",
   "execution_count": null,
   "id": "fff3f5d4",
   "metadata": {},
   "outputs": [],
   "source": [
    "9. If your programme is stuck in an endless loop, what keys you’ll press?\n",
    "\n",
    "Ans9:-\n",
    "\n",
    "I will press \"i\" key two times to interrupt the kernel and it will stop executing my code if it is in endless loop.\n",
    "\n",
    "Note:- This is for jupyter notebook.\n",
    "\n",
    "for other platform, we can try:-\n",
    "\n",
    "CTRL + c\n",
    "\n",
    "or \n",
    "\n",
    "CTRL + break\n",
    "\n"
   ]
  },
  {
   "cell_type": "code",
   "execution_count": null,
   "id": "a75ad52c",
   "metadata": {},
   "outputs": [],
   "source": [
    "10. How can you tell the difference between break and continue?\n",
    "\n",
    "Ans10:-\n",
    "\n",
    "Break and Continue both are jump statements and works differently.\n",
    "\n",
    "Break is used for the immediate termination of the loop. wherever it will find break keyword within the loop,\\\n",
    "it will stop its iteration and come out of the loop.\n",
    "\n",
    "and Continue is used to terminate the current iteration and transfers the control to the next iteration of the loop. "
   ]
  },
  {
   "cell_type": "code",
   "execution_count": null,
   "id": "29942430",
   "metadata": {},
   "outputs": [],
   "source": [
    "11. In a for loop, what is the difference between range(10), range(0, 10), and range(0, 10, 1)?\n",
    "\n",
    "Ans11:-\n",
    "\n",
    "There is no difference in these three statements and it will give the same output.\n",
    "\n",
    "In range(10), The upper bound is given 10 which is excluded. The default lower bound is 0 and default jump is 1.\n",
    "\n",
    "In range(0,10), The lower bound is given 0 which is included and upper bound is given 10 which is excluded. \\\n",
    "Default jump is 1.\n",
    "\n",
    "In range(0,10,1), The lower bound is 0 and the upper bound is 10 and the jump is 1.\n",
    "\n",
    "Hence, these three statement will give same result.\n",
    "\n"
   ]
  },
  {
   "cell_type": "code",
   "execution_count": null,
   "id": "cf1c8b53",
   "metadata": {},
   "outputs": [],
   "source": [
    "12. Write a short program that prints the numbers 1 to 10 using a for loop. Then write an \\\n",
    "    equivalent program that prints the numbers 1 to 10 using a while loop."
   ]
  },
  {
   "cell_type": "code",
   "execution_count": 29,
   "id": "2a9d9f4a",
   "metadata": {},
   "outputs": [
    {
     "name": "stdout",
     "output_type": "stream",
     "text": [
      "1\n",
      "2\n",
      "3\n",
      "4\n",
      "5\n",
      "6\n",
      "7\n",
      "8\n",
      "9\n",
      "10\n"
     ]
    }
   ],
   "source": [
    "for i in range(10):\n",
    "    print(i+1)"
   ]
  },
  {
   "cell_type": "code",
   "execution_count": 30,
   "id": "11e9aff0",
   "metadata": {},
   "outputs": [
    {
     "name": "stdout",
     "output_type": "stream",
     "text": [
      "1\n",
      "2\n",
      "3\n",
      "4\n",
      "5\n",
      "6\n",
      "7\n",
      "8\n",
      "9\n",
      "10\n"
     ]
    }
   ],
   "source": [
    "i=0\n",
    "while i<10:\n",
    "    print(i+1)\n",
    "    i += 1"
   ]
  },
  {
   "cell_type": "code",
   "execution_count": null,
   "id": "44985d4b",
   "metadata": {},
   "outputs": [],
   "source": [
    "13. If you had a function named bacon() inside a module named spam, how would you call it after importing spam?\n",
    "\n",
    "Ans13:-\n",
    "\n",
    "import spam\n",
    "spam.bacon()"
   ]
  }
 ],
 "metadata": {
  "kernelspec": {
   "display_name": "Python 3",
   "language": "python",
   "name": "python3"
  },
  "language_info": {
   "codemirror_mode": {
    "name": "ipython",
    "version": 3
   },
   "file_extension": ".py",
   "mimetype": "text/x-python",
   "name": "python",
   "nbconvert_exporter": "python",
   "pygments_lexer": "ipython3",
   "version": "3.8.8"
  }
 },
 "nbformat": 4,
 "nbformat_minor": 5
}
