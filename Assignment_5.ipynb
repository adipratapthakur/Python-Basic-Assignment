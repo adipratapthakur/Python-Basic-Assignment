{
 "cells": [
  {
   "cell_type": "code",
   "execution_count": null,
   "id": "5b8f6395",
   "metadata": {},
   "outputs": [],
   "source": [
    "1. What does an empty dictionary's code look like?\n",
    "\n",
    "Ans1:-\n",
    "\n",
    "{} Two curly brackets"
   ]
  },
  {
   "cell_type": "code",
   "execution_count": null,
   "id": "70b553a3",
   "metadata": {},
   "outputs": [],
   "source": [
    "2. What is the value of a dictionary value with the key 'foo' and the value 42?\n",
    "\n",
    "Ans2:-\n",
    "\n",
    "d = {'foo':42}\n",
    "print(d)\n",
    "\n",
    "Output will be:-\n",
    "\n",
    "{'foo':42}\n"
   ]
  },
  {
   "cell_type": "code",
   "execution_count": null,
   "id": "2e96ee25",
   "metadata": {},
   "outputs": [],
   "source": [
    "3. What is the most significant distinction between a dictionary and a list?\n",
    "\n",
    "Ans3:-\n",
    "\n",
    "Dictionary is the unordered collection of items and it stores items in key-value pair. we can access value of an item\\\n",
    "by its key.\n",
    "whereas\n",
    "List is the ordered collection of different types of elements. we access elements of list by its index value.\n"
   ]
  },
  {
   "cell_type": "code",
   "execution_count": null,
   "id": "271d8079",
   "metadata": {},
   "outputs": [],
   "source": [
    "4. What happens if you try to access spam['foo'] if spam is {'bar': 100}?\n",
    "\n",
    "Ans4:-\n",
    "\n",
    "spam = {'bar':100}\n",
    "spam['foo']        #it will throw an error\n",
    "\n",
    "Hence, it will display the keyError.\n",
    "\n"
   ]
  },
  {
   "cell_type": "code",
   "execution_count": null,
   "id": "42f8ec0e",
   "metadata": {},
   "outputs": [],
   "source": [
    "5. If a dictionary is stored in spam, what is the difference between the expressions 'cat' in spam \\\n",
    "   and 'cat' in spam.keys()?\n",
    "   \n",
    "Ans5:-\n",
    "\n",
    "both 'cat' in spam and 'cat' in spam.keys() will check 'cat' as a key in the dictionary named spam.\n",
    "\n",
    "if 'cat' is found as a key in spam both expression will return True and if not found as key both expressions\\\n",
    "will return False.\n"
   ]
  },
  {
   "cell_type": "code",
   "execution_count": null,
   "id": "99aff192",
   "metadata": {},
   "outputs": [],
   "source": [
    "6. If a dictionary is stored in spam, what is the difference between the expressions 'cat' in spam and \\\n",
    "   'cat' in spam.values()?\n",
    "   \n",
    "Ans6:-\n",
    "\n",
    "'cat' in spam will check 'cat' as a key in dictionary named spam. If found it will return True otherwise return False\n",
    "\n",
    "'cat' in spam.values() will check 'cat' as a value in dictionary named spam. If found it will return True otherwise\\\n",
    "it will return False.\n"
   ]
  },
  {
   "cell_type": "code",
   "execution_count": null,
   "id": "485e5c5c",
   "metadata": {},
   "outputs": [],
   "source": [
    "7. What is a shortcut for the following code?\n",
    "   if 'color' not in spam:\n",
    "   spam['color'] = 'black'\n",
    "\n",
    "Ans7:-\n",
    "\n",
    "\n",
    "spam.setdefault('color','black')\n",
    "\n",
    "it will create 'color' as a key and 'black' value of key 'color' if 'color' is not present as a key.\n",
    "if it is present as a key it will not insert item.\n",
    "\n"
   ]
  },
  {
   "cell_type": "code",
   "execution_count": null,
   "id": "b63b4869",
   "metadata": {},
   "outputs": [],
   "source": [
    "8. How do you \"pretty print\" dictionary values using which module and function?\n",
    "\n",
    "Ans8:-\n",
    "\n",
    "import pprint\n",
    "pprint.pprint(d)\n",
    "\n",
    "pprint function present in the pprint module can be used to pretty print the dictionary values.\n"
   ]
  }
 ],
 "metadata": {
  "kernelspec": {
   "display_name": "Python 3",
   "language": "python",
   "name": "python3"
  },
  "language_info": {
   "codemirror_mode": {
    "name": "ipython",
    "version": 3
   },
   "file_extension": ".py",
   "mimetype": "text/x-python",
   "name": "python",
   "nbconvert_exporter": "python",
   "pygments_lexer": "ipython3",
   "version": "3.8.8"
  }
 },
 "nbformat": 4,
 "nbformat_minor": 5
}
